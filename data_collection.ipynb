{
 "cells": [
  {
   "cell_type": "code",
   "execution_count": 1,
   "id": "72108d10-d81c-42e9-8622-40756dbfc7eb",
   "metadata": {},
   "outputs": [
    {
     "name": "stderr",
     "output_type": "stream",
     "text": [
      "2025-08-29 17:52:58.647890: I tensorflow/core/util/port.cc:153] oneDNN custom operations are on. You may see slightly different numerical results due to floating-point round-off errors from different computation orders. To turn them off, set the environment variable `TF_ENABLE_ONEDNN_OPTS=0`.\n",
      "2025-08-29 17:52:58.658456: E external/local_xla/xla/stream_executor/cuda/cuda_fft.cc:467] Unable to register cuFFT factory: Attempting to register factory for plugin cuFFT when one has already been registered\n",
      "WARNING: All log messages before absl::InitializeLog() is called are written to STDERR\n",
      "E0000 00:00:1756489978.668084     624 cuda_dnn.cc:8579] Unable to register cuDNN factory: Attempting to register factory for plugin cuDNN when one has already been registered\n",
      "E0000 00:00:1756489978.670861     624 cuda_blas.cc:1407] Unable to register cuBLAS factory: Attempting to register factory for plugin cuBLAS when one has already been registered\n",
      "W0000 00:00:1756489978.678244     624 computation_placer.cc:177] computation placer already registered. Please check linkage and avoid linking the same target more than once.\n",
      "W0000 00:00:1756489978.678253     624 computation_placer.cc:177] computation placer already registered. Please check linkage and avoid linking the same target more than once.\n",
      "W0000 00:00:1756489978.678254     624 computation_placer.cc:177] computation placer already registered. Please check linkage and avoid linking the same target more than once.\n",
      "W0000 00:00:1756489978.678255     624 computation_placer.cc:177] computation placer already registered. Please check linkage and avoid linking the same target more than once.\n",
      "2025-08-29 17:52:58.681045: I tensorflow/core/platform/cpu_feature_guard.cc:210] This TensorFlow binary is optimized to use available CPU instructions in performance-critical operations.\n",
      "To enable the following instructions: AVX2 AVX_VNNI FMA, in other operations, rebuild TensorFlow with the appropriate compiler flags.\n"
     ]
    },
    {
     "name": "stdout",
     "output_type": "stream",
     "text": [
      "25-08-29 17:52:59 - Directory /root/.deepface has been created\n",
      "25-08-29 17:52:59 - Directory /root/.deepface/weights has been created\n"
     ]
    }
   ],
   "source": [
    "import cv2\n",
    "import time\n",
    "import matplotlib.pyplot as plt\n",
    "from deepface import DeepFace\n",
    "import torch\n",
    "import torch.nn as nn\n",
    "import torch.nn.functional as F"
   ]
  },
  {
   "cell_type": "code",
   "execution_count": 2,
   "id": "76d1daad-1c89-4108-aa4a-fe363a8fa70b",
   "metadata": {},
   "outputs": [],
   "source": [
    "import numpy as np\n"
   ]
  },
  {
   "cell_type": "code",
   "execution_count": 18,
   "id": "47056de0-8f27-47da-9cf0-066136487ba2",
   "metadata": {},
   "outputs": [],
   "source": [
    "cap = cv2.VideoCapture(0)\n",
    "frame_count = 0\n",
    "detected_faces = []\n",
    "faces = []\n",
    "while True:\n",
    "    ret, frame = cap.read()\n",
    "    if not ret:\n",
    "        break\n",
    "    frame_count += 1\n",
    "    try:\n",
    "        if frame_count % 3 == 0:\n",
    "            faces = DeepFace.extract_faces(frame, detector_backend='mtcnn', enforce_detection=False)\n",
    "            detected_faces.append(faces)\n",
    "    except:\n",
    "        faces = []\n",
    "\n",
    "    # Draw rectangles for each detected face\n",
    "    for face_data in faces:\n",
    "        facial_area = face_data[\"facial_area\"]\n",
    "        x, y, w, h = facial_area[\"x\"], facial_area[\"y\"], facial_area[\"w\"], facial_area[\"h\"]\n",
    "        cv2.rectangle(frame, (x, y), (x + w, y + h), (0, 255, 0), 2)\n",
    "        cv2.putText(frame, \"Osoba\", (x, y - 10), cv2.FONT_HERSHEY_SIMPLEX, \n",
    "                    0.8, (0, 255, 0), 2, cv2.LINE_AA)\n",
    "    \n",
    "    cv2.imshow(\"Webcam Face Detection\", frame)\n",
    "\n",
    "    # Press 'q' to quit\n",
    "    if cv2.waitKey(1) & 0xFF == ord('q'):\n",
    "        break\n",
    "# detected_faces = []\n",
    "cap.release()\n",
    "cv2.destroyAllWindows()"
   ]
  },
  {
   "cell_type": "code",
   "execution_count": 20,
   "id": "8e5741fb-0a0e-4890-b34d-a51153fe9d75",
   "metadata": {},
   "outputs": [],
   "source": [
    "for i, faces in enumerate(detected_faces):\n",
    "    cropped_face = faces[0][\"face\"]\n",
    "    cropped_face_uint8 = (cropped_face * 255).astype(np.uint8)\n",
    "    cv2.imwrite(f\"data/test/non_target_person/cropped_face_mateusz{i}.jpg\", cv2.cvtColor(cropped_face_uint8, cv2.COLOR_RGB2BGR))"
   ]
  },
  {
   "cell_type": "code",
   "execution_count": 21,
   "id": "1be6c84a-62eb-4d59-a25c-ad8b7d4bdc20",
   "metadata": {},
   "outputs": [
    {
     "data": {
      "text/plain": [
       "150"
      ]
     },
     "execution_count": 21,
     "metadata": {},
     "output_type": "execute_result"
    }
   ],
   "source": [
    "len(detected_faces)"
   ]
  },
  {
   "cell_type": "code",
   "execution_count": 4,
   "id": "f1dc38cb-e201-4a53-89e7-40998fe7afa5",
   "metadata": {},
   "outputs": [],
   "source": [
    "import os\n",
    "import cv2\n",
    "import numpy as np\n",
    "import matplotlib.pyplot as plt\n",
    "from deepface import DeepFace"
   ]
  },
  {
   "cell_type": "code",
   "execution_count": 1,
   "id": "ad994d54-1bb1-4f1b-b966-957dd1b4d021",
   "metadata": {
    "scrolled": true
   },
   "outputs": [
    {
     "ename": "NameError",
     "evalue": "name 'os' is not defined",
     "output_type": "error",
     "traceback": [
      "\u001b[0;31m---------------------------------------------------------------------------\u001b[0m",
      "\u001b[0;31mNameError\u001b[0m                                 Traceback (most recent call last)",
      "Cell \u001b[0;32mIn[1], line 3\u001b[0m\n\u001b[1;32m      1\u001b[0m input_dir \u001b[38;5;241m=\u001b[39m \u001b[38;5;124m\"\u001b[39m\u001b[38;5;124mdata/random_people\u001b[39m\u001b[38;5;124m\"\u001b[39m      \n\u001b[1;32m      2\u001b[0m output_dir \u001b[38;5;241m=\u001b[39m \u001b[38;5;124m\"\u001b[39m\u001b[38;5;124mdata/train/non_target_person\u001b[39m\u001b[38;5;124m\"\u001b[39m \n\u001b[0;32m----> 3\u001b[0m \u001b[43mos\u001b[49m\u001b[38;5;241m.\u001b[39mmakedirs(output_dir, exist_ok\u001b[38;5;241m=\u001b[39m\u001b[38;5;28;01mTrue\u001b[39;00m)\n\u001b[1;32m      4\u001b[0m MAX_DIM \u001b[38;5;241m=\u001b[39m \u001b[38;5;241m1024\u001b[39m  \u001b[38;5;66;03m# maximum width or height to prevent memory issues\u001b[39;00m\n\u001b[1;32m      6\u001b[0m \u001b[38;5;66;03m# for fname in os.listdir(input_dir):\u001b[39;00m\n\u001b[1;32m      7\u001b[0m \u001b[38;5;66;03m#     if not fname.lower().endswith((\".jpg\", \".jpeg\", \".png\")):\u001b[39;00m\n\u001b[1;32m      8\u001b[0m \u001b[38;5;66;03m#         continue\u001b[39;00m\n\u001b[0;32m   (...)\u001b[0m\n\u001b[1;32m     36\u001b[0m \u001b[38;5;66;03m#     cv2.imwrite(save_path, cv2.cvtColor(cropped_face_uint8, cv2.COLOR_RGB2BGR))\u001b[39;00m\n\u001b[1;32m     37\u001b[0m \u001b[38;5;66;03m#     print(f\"Saved {save_path}\")\u001b[39;00m\n",
      "\u001b[0;31mNameError\u001b[0m: name 'os' is not defined"
     ]
    }
   ],
   "source": [
    "input_dir = \"data/random_people\"      \n",
    "output_dir = \"data/train/non_target_person\" \n",
    "os.makedirs(output_dir, exist_ok=True)\n",
    "MAX_DIM = 1024  # maximum width or height to prevent memory issues\n",
    "\n",
    "for fname in os.listdir(input_dir):\n",
    "    if not fname.lower().endswith((\".jpg\", \".jpeg\", \".png\")):\n",
    "        continue\n",
    "\n",
    "    img_path = os.path.join(input_dir, fname)\n",
    "    img = cv2.imread(img_path)\n",
    "\n",
    "    if img is None:\n",
    "        print(f\"Could not read {img_path}\")\n",
    "        continue\n",
    "\n",
    "    h, w = img.shape[:2]\n",
    "    scale = MAX_DIM / max(h, w) if max(h, w) > MAX_DIM else 1\n",
    "    if scale < 1:\n",
    "        img = cv2.resize(img, (int(w*scale), int(h*scale)))\n",
    "\n",
    "    try:\n",
    "        faces = DeepFace.extract_faces(img, detector_backend=\"mtcnn\", enforce_detection=False)\n",
    "    except Exception as e:\n",
    "        print(f\"Error extracting from {fname}: {e}\")\n",
    "        continue\n",
    "\n",
    "    if len(faces) == 0:\n",
    "        print(f\"No face found in {fname}\")\n",
    "        continue\n",
    "\n",
    "    cropped_face = faces[0][\"face\"]\n",
    "    cropped_face_uint8 = (cropped_face * 255).astype(np.uint8)\n",
    "\n",
    "    save_path = os.path.join(output_dir, f\"target_{fname}\")\n",
    "    cv2.imwrite(save_path, cv2.cvtColor(cropped_face_uint8, cv2.COLOR_RGB2BGR))\n",
    "    print(f\"Saved {save_path}\")"
   ]
  },
  {
   "cell_type": "code",
   "execution_count": null,
   "id": "a0a0e642-ff22-444f-803d-81bec3edcddf",
   "metadata": {},
   "outputs": [],
   "source": []
  },
  {
   "cell_type": "code",
   "execution_count": 3,
   "id": "7ee328aa-b2a9-41b5-8000-7c6b3da85d88",
   "metadata": {},
   "outputs": [],
   "source": [
    "import os"
   ]
  },
  {
   "cell_type": "code",
   "execution_count": 2,
   "id": "4a35323b-0c49-48f8-94d2-51bf6a196619",
   "metadata": {},
   "outputs": [],
   "source": [
    "# os.listdir(\"./data/train/non_target_person\")"
   ]
  },
  {
   "cell_type": "code",
   "execution_count": 20,
   "id": "57dadeec-f7f0-47fe-94cb-4039aa315da9",
   "metadata": {},
   "outputs": [
    {
     "name": "stdout",
     "output_type": "stream",
     "text": [
      "Moved 81 files from ./data/train/non_target_person to ./data/val/non_target_person\n"
     ]
    }
   ],
   "source": [
    "import os\n",
    "import random\n",
    "import shutil\n",
    "\n",
    "src_dir = \"./data/train/non_target_person\"\n",
    "dst_dir = \"./data/val/non_target_person\"\n",
    "\n",
    "os.makedirs(dst_dir, exist_ok=True)\n",
    "\n",
    "files = [f for f in os.listdir(src_dir) if f.startswith(\"cropped_\") and os.path.isfile(os.path.join(src_dir, f))]\n",
    "\n",
    "random.shuffle(files)\n",
    "num_to_move = int(0.2 * len(files))\n",
    "files_to_move = files[:num_to_move]\n",
    "\n",
    "for f in files_to_move:\n",
    "    shutil.move(os.path.join(src_dir, f), os.path.join(dst_dir, f))\n",
    "\n",
    "print(f\"Moved {len(files_to_move)} files from {src_dir} to {dst_dir}\")\n"
   ]
  },
  {
   "cell_type": "code",
   "execution_count": null,
   "id": "2ef76e5e-ab32-49ec-b70d-422b29f8c762",
   "metadata": {},
   "outputs": [],
   "source": []
  },
  {
   "cell_type": "code",
   "execution_count": 22,
   "id": "fd78ff1e-eb6e-4232-90d1-10bb90764984",
   "metadata": {},
   "outputs": [
    {
     "name": "stdout",
     "output_type": "stream",
     "text": [
      "Moved 140 files to data/val/target_person\n"
     ]
    }
   ],
   "source": [
    "import os\n",
    "import random\n",
    "import shutil\n",
    "\n",
    "def move_random_files(src_dir, dst_dir, sample_size):\n",
    "    os.makedirs(dst_dir, exist_ok=True)\n",
    "    files = [f for f in os.listdir(src_dir) if os.path.isfile(os.path.join(src_dir, f))]\n",
    "\n",
    "    if sample_size > len(files):\n",
    "        raise ValueError(f\"Sample size {sample_size} is larger than number of files {len(files)}\")\n",
    "\n",
    "    sampled_files = random.sample(files, sample_size)\n",
    "\n",
    "    for f in sampled_files:\n",
    "        shutil.move(os.path.join(src_dir, f), os.path.join(dst_dir, f))\n",
    "\n",
    "    print(f\"Moved {len(sampled_files)} files to {dst_dir}\")\n",
    "\n",
    "src = r\"data/train/target_person\"\n",
    "dst = r\"data/val/target_person\"\n",
    "n = 140  \n",
    "move_random_files(src, dst, n)\n"
   ]
  },
  {
   "cell_type": "code",
   "execution_count": null,
   "id": "3e05ee4c-a542-4a83-8611-81afd2c777ff",
   "metadata": {},
   "outputs": [],
   "source": []
  }
 ],
 "metadata": {
  "kernelspec": {
   "display_name": "Python 3 (ipykernel)",
   "language": "python",
   "name": "python3"
  },
  "language_info": {
   "codemirror_mode": {
    "name": "ipython",
    "version": 3
   },
   "file_extension": ".py",
   "mimetype": "text/x-python",
   "name": "python",
   "nbconvert_exporter": "python",
   "pygments_lexer": "ipython3",
   "version": "3.10.12"
  }
 },
 "nbformat": 4,
 "nbformat_minor": 5
}
