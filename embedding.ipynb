{
 "cells": [
  {
   "cell_type": "code",
   "execution_count": 1,
   "id": "0f112d99-8816-4083-8541-c534b8cf46ea",
   "metadata": {},
   "outputs": [
    {
     "name": "stdout",
     "output_type": "stream",
     "text": [
      "WARNING:tensorflow:From C:\\Users\\vxthe\\Desktop\\SGH\\Big_Data\\thesis\\Master_Thesis\\da_venv\\Lib\\site-packages\\tf_keras\\src\\losses.py:2976: The name tf.losses.sparse_softmax_cross_entropy is deprecated. Please use tf.compat.v1.losses.sparse_softmax_cross_entropy instead.\n",
      "\n"
     ]
    }
   ],
   "source": [
    "from deepface import DeepFace\n",
    "import cv2\n",
    "import numpy as np"
   ]
  },
  {
   "cell_type": "code",
   "execution_count": 2,
   "id": "5a9e2d32-30c7-43f6-b7a4-721f9ddf1e2a",
   "metadata": {},
   "outputs": [],
   "source": [
    "img_path = \"data/train/target_person/cropped_face80.jpg\"\n",
    "image = cv2.imread(img_path)\n",
    "models = [\"VGG-Face\", \"Facenet\", \"OpenFace\", \"DeepFace\", \"Dlib\", \"ArcFace\"]"
   ]
  },
  {
   "cell_type": "code",
   "execution_count": 27,
   "id": "ce7c8566-1c08-486a-85d7-0d25d5934cb7",
   "metadata": {},
   "outputs": [],
   "source": [
    "embedding1 = DeepFace.represent(image, model_name = models[2])"
   ]
  },
  {
   "cell_type": "code",
   "execution_count": 28,
   "id": "9e49280c-2289-4e5a-9709-b8dd926f1d68",
   "metadata": {},
   "outputs": [],
   "source": [
    "img_path2 = \"data/train/target_person/cropped_face257.jpg\"\n",
    "image2 = cv2.imread(img_path2)\n"
   ]
  },
  {
   "cell_type": "code",
   "execution_count": 29,
   "id": "a5c8fa98-415d-4a8e-9100-200347931844",
   "metadata": {},
   "outputs": [],
   "source": [
    "\n",
    "embedding2 = DeepFace.represent(image2, model_name = models[2])"
   ]
  },
  {
   "cell_type": "code",
   "execution_count": 30,
   "id": "bb2b799a-79a8-43a2-a6ad-e8076d17e3a7",
   "metadata": {},
   "outputs": [
    {
     "name": "stdout",
     "output_type": "stream",
     "text": [
      "Cosine similarity: 0.7057046555553886\n",
      "Euclidean distance: 0.7671966233441532\n",
      "Same person ✅\n"
     ]
    }
   ],
   "source": [
    "embedding2=embedding2[0][\"embedding\"]\n",
    "embedding1=embedding1[0][\"embedding\"]\n",
    "\n",
    "\n",
    "embedding1 = np.array(embedding1)\n",
    "embedding2 = np.array(embedding2)\n",
    "\n",
    "cosine_distance = np.dot(embedding1, embedding2) / (np.linalg.norm(embedding1) * np.linalg.norm(embedding2))\n",
    "euclidean_distance = np.linalg.norm(embedding1 - embedding2)\n",
    "\n",
    "print(\"Cosine similarity:\", cosine_distance)\n",
    "print(\"Euclidean distance:\", euclidean_distance)\n",
    "\n",
    "# Step 3: Decide match (threshold depends on model and metric)\n",
    "threshold = 0.7  # example for cosine similarity\n",
    "if cosine_distance > threshold:\n",
    "    print(\"Same person ✅\")\n",
    "else:\n",
    "    print(\"Different persons ❌\")"
   ]
  },
  {
   "cell_type": "code",
   "execution_count": null,
   "id": "b6aaf8ca-842d-4196-9236-d9735b02eec9",
   "metadata": {},
   "outputs": [],
   "source": []
  },
  {
   "cell_type": "code",
   "execution_count": null,
   "id": "9c0093b5-b486-4228-ba40-93251b77b69d",
   "metadata": {},
   "outputs": [],
   "source": []
  },
  {
   "cell_type": "code",
   "execution_count": null,
   "id": "01818837-1650-49cb-a1c4-31eee7a7de0b",
   "metadata": {},
   "outputs": [],
   "source": []
  },
  {
   "cell_type": "code",
   "execution_count": null,
   "id": "f25f8c20-25cb-4f2f-8f05-b750ccc37e77",
   "metadata": {},
   "outputs": [],
   "source": []
  },
  {
   "cell_type": "code",
   "execution_count": null,
   "id": "a992c825-052d-4442-b76c-b963f5931b45",
   "metadata": {},
   "outputs": [],
   "source": []
  }
 ],
 "metadata": {
  "kernelspec": {
   "display_name": "Python 3 (ipykernel)",
   "language": "python",
   "name": "python3"
  },
  "language_info": {
   "codemirror_mode": {
    "name": "ipython",
    "version": 3
   },
   "file_extension": ".py",
   "mimetype": "text/x-python",
   "name": "python",
   "nbconvert_exporter": "python",
   "pygments_lexer": "ipython3",
   "version": "3.12.0"
  }
 },
 "nbformat": 4,
 "nbformat_minor": 5
}
